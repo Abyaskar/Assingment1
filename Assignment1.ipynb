{
 "cells": [
  {
   "cell_type": "code",
   "execution_count": 2,
   "id": "97e8ce92-41c2-4b98-b389-cd3ea222e28c",
   "metadata": {},
   "outputs": [],
   "source": [
    "import pandas as pd\n",
    "import numpy as np"
   ]
  },
  {
   "cell_type": "code",
   "execution_count": 3,
   "id": "4724ad8a-fc3a-4e19-9bbe-d128b43efa2d",
   "metadata": {},
   "outputs": [],
   "source": [
    "df = pd.read_csv('dataset.csv')"
   ]
  },
  {
   "cell_type": "code",
   "execution_count": 4,
   "id": "93681fa0-6eb8-468c-a348-0e604126a325",
   "metadata": {},
   "outputs": [
    {
     "name": "stdout",
     "output_type": "stream",
     "text": [
      "   OrderID        Date Region   CustomerName       Product  Quantity  \\\n",
      "0     1001  2023-01-15  North  Alice Johnson        Laptop       2.0   \n",
      "1     1002  2023-01-16  South    Rahul Mehta  Mobile Phone       5.0   \n",
      "2     1003  2023-01-17   East    Fatima Noor    Headphones      10.0   \n",
      "3     1004  2023-01-18   West            NaN        Laptop       1.0   \n",
      "4     1005  2023-01-19  North     Zoe Carter  Mobile Phone       3.0   \n",
      "\n",
      "   UnitPrice  TotalSales PaymentMethod  \n",
      "0      700.0      1400.0   Credit Card  \n",
      "1      300.0      1500.0           UPI  \n",
      "2       50.0       500.0    Debit Card  \n",
      "3      720.0       720.0   Credit Card  \n",
      "4        NaN         NaN           UPI  \n",
      "<class 'pandas.core.frame.DataFrame'>\n",
      "RangeIndex: 20 entries, 0 to 19\n",
      "Data columns (total 9 columns):\n",
      " #   Column         Non-Null Count  Dtype  \n",
      "---  ------         --------------  -----  \n",
      " 0   OrderID        20 non-null     int64  \n",
      " 1   Date           20 non-null     object \n",
      " 2   Region         20 non-null     object \n",
      " 3   CustomerName   18 non-null     object \n",
      " 4   Product        20 non-null     object \n",
      " 5   Quantity       19 non-null     float64\n",
      " 6   UnitPrice      18 non-null     float64\n",
      " 7   TotalSales     18 non-null     float64\n",
      " 8   PaymentMethod  20 non-null     object \n",
      "dtypes: float64(3), int64(1), object(5)\n",
      "memory usage: 1.5+ KB\n"
     ]
    }
   ],
   "source": [
    "print(df.head())\n",
    "df.info()"
   ]
  },
  {
   "cell_type": "code",
   "execution_count": 5,
   "id": "83da8c31-0bf4-4d6d-8d31-381541bbac71",
   "metadata": {},
   "outputs": [
    {
     "name": "stdout",
     "output_type": "stream",
     "text": [
      "\n",
      "Missing values before cleaning:\n",
      "OrderID          0\n",
      "Date             0\n",
      "Region           0\n",
      "CustomerName     2\n",
      "Product          0\n",
      "Quantity         1\n",
      "UnitPrice        2\n",
      "TotalSales       2\n",
      "PaymentMethod    0\n",
      "dtype: int64\n"
     ]
    }
   ],
   "source": [
    "print(\"\\nMissing values before cleaning:\")\n",
    "print(df.isnull().sum())"
   ]
  },
  {
   "cell_type": "code",
   "execution_count": 7,
   "id": "8646251c-9880-4cab-b171-9b490aaf91c2",
   "metadata": {},
   "outputs": [
    {
     "name": "stdout",
     "output_type": "stream",
     "text": [
      "\n",
      "Missing values after cleaning:\n",
      "OrderID          0\n",
      "Date             0\n",
      "Region           0\n",
      "CustomerName     0\n",
      "Product          0\n",
      "Quantity         0\n",
      "UnitPrice        0\n",
      "TotalSales       0\n",
      "PaymentMethod    0\n",
      "dtype: int64\n",
      "\n",
      "Dataset Information after cleaning:\n"
     ]
    }
   ],
   "source": [
    "numerical_cols = df.select_dtypes(include=np.number).columns\n",
    "categorical_cols = df.select_dtypes(include='object').columns\n",
    "\n",
    "for col in numerical_cols:\n",
    "    if df[col].isnull().any():\n",
    "        df[col].fillna(df[col].mean(), inplace=True)\n",
    "        print(f\"Filled missing values in numerical column '{col}' with its mean.\")\n",
    "\n",
    "for col in categorical_cols:\n",
    "    if df[col].isnull().any():\n",
    "        df[col].fillna(df[col].mode()[0], inplace=True)\n",
    "        print(f\"Filled missing values in categorical column '{col}' with its mode.\")\n",
    "\n",
    "print(\"\\nMissing values after cleaning:\")\n",
    "print(df.isnull().sum())\n",
    "print(\"\\nDataset Information after cleaning:\")"
   ]
  },
  {
   "cell_type": "code",
   "execution_count": 8,
   "id": "b0cb2b7b-31d8-41b2-9355-30b52190c986",
   "metadata": {},
   "outputs": [
    {
     "name": "stdout",
     "output_type": "stream",
     "text": [
      "<class 'pandas.core.frame.DataFrame'>\n",
      "RangeIndex: 20 entries, 0 to 19\n",
      "Data columns (total 9 columns):\n",
      " #   Column         Non-Null Count  Dtype  \n",
      "---  ------         --------------  -----  \n",
      " 0   OrderID        20 non-null     int64  \n",
      " 1   Date           20 non-null     object \n",
      " 2   Region         20 non-null     object \n",
      " 3   CustomerName   20 non-null     object \n",
      " 4   Product        20 non-null     object \n",
      " 5   Quantity       20 non-null     float64\n",
      " 6   UnitPrice      20 non-null     float64\n",
      " 7   TotalSales     20 non-null     float64\n",
      " 8   PaymentMethod  20 non-null     object \n",
      "dtypes: float64(3), int64(1), object(5)\n",
      "memory usage: 1.5+ KB\n"
     ]
    }
   ],
   "source": [
    "df.info()"
   ]
  },
  {
   "cell_type": "code",
   "execution_count": 14,
   "id": "b286e709-2871-4bd6-8d6b-2bca3124c195",
   "metadata": {},
   "outputs": [
    {
     "name": "stdout",
     "output_type": "stream",
     "text": [
      "Available columns: ['OrderID', 'Date', 'Region', 'CustomerName', 'Product', 'Quantity', 'UnitPrice', 'TotalSales', 'PaymentMethod']\n",
      "Found potential sales columns: ['TotalSales']\n",
      "Using 'TotalSales' as the sales column\n",
      "\n",
      "--- Sum of Sales by Region ---\n",
      "Region\n",
      "North    4461.666667\n",
      "South    3830.000000\n",
      "West     3121.666667\n",
      "East     2520.000000\n",
      "Name: TotalSales, dtype: float64\n",
      "\n",
      "--- Average Sales per Product ---\n",
      "Product\n",
      "Laptop          937.777778\n",
      "Tablet          900.000000\n",
      "Mobile Phone    857.333333\n",
      "Monitor         468.333333\n",
      "Headphones      415.000000\n",
      "Keyboard        342.500000\n",
      "Smart Watch     200.000000\n",
      "Name: TotalSales, dtype: float64\n",
      "\n",
      "--- Highest Selling Products ---\n",
      "Product\n",
      "Laptop          937.777778\n",
      "Tablet          900.000000\n",
      "Mobile Phone    857.333333\n",
      "Monitor         468.333333\n",
      "Headphones      415.000000\n",
      "Name: TotalSales, dtype: float64\n",
      "\n",
      "--- Lowest Selling Products ---\n",
      "Product\n",
      "Mobile Phone    857.333333\n",
      "Monitor         468.333333\n",
      "Headphones      415.000000\n",
      "Keyboard        342.500000\n",
      "Smart Watch     200.000000\n",
      "Name: TotalSales, dtype: float64\n"
     ]
    },
    {
     "name": "stderr",
     "output_type": "stream",
     "text": [
      "C:\\Users\\vinayak\\AppData\\Local\\Temp\\ipykernel_25012\\3132034087.py:17: FutureWarning: A value is trying to be set on a copy of a DataFrame or Series through chained assignment using an inplace method.\n",
      "The behavior will change in pandas 3.0. This inplace method will never work because the intermediate object on which we are setting values always behaves as a copy.\n",
      "\n",
      "For example, when doing 'df[col].method(value, inplace=True)', try using 'df.method({col: value}, inplace=True)' or df[col] = df[col].method(value) instead, to perform the operation inplace on the original object.\n",
      "\n",
      "\n",
      "  df[sales_col].fillna(df[sales_col].mean(), inplace=True)\n"
     ]
    }
   ],
   "source": [
    "if 'df' not in locals() or df is None:\n",
    "    print(\"Error: DataFrame 'df' is not defined. Please load your data first.\")\n",
    "else:\n",
    "    print(\"Available columns:\", df.columns.tolist())\n",
    "    \n",
    "    sales_cols = [col for col in df.columns if 'sales' in col.lower()]\n",
    "    if sales_cols:\n",
    "        print(f\"Found potential sales columns: {sales_cols}\")\n",
    "        sales_col = sales_cols[0]\n",
    "        print(f\"Using '{sales_col}' as the sales column\")\n",
    "    else:\n",
    "        sales_col = None\n",
    "        print(\"No sales-related columns found\")\n",
    "    \n",
    "    if sales_col:\n",
    "        df[sales_col] = pd.to_numeric(df[sales_col], errors='coerce')\n",
    "        df[sales_col].fillna(df[sales_col].mean(), inplace=True)\n",
    "        \n",
    "        # 1. Sum of sales by region\n",
    "        if 'Region' in df.columns:\n",
    "            sales_by_region = df.groupby('Region')[sales_col].sum().sort_values(ascending=False)\n",
    "            print(\"\\n--- Sum of Sales by Region ---\")\n",
    "            print(sales_by_region)\n",
    "        else:\n",
    "            print(\"Warning: 'Region' column not found for 'Sum of sales by region'.\")\n",
    "        \n",
    "        # 2. Average sales per product\n",
    "        if 'Product' in df.columns:\n",
    "            avg_sales_per_product = df.groupby('Product')[sales_col].mean().sort_values(ascending=False)\n",
    "            print(\"\\n--- Average Sales per Product ---\")\n",
    "            print(avg_sales_per_product)\n",
    "            \n",
    "            # 3. Highest & lowest selling products\n",
    "            print(\"\\n--- Highest Selling Products ---\")\n",
    "            print(avg_sales_per_product.head(5)) # Top 5 products by average sales\n",
    "            \n",
    "            print(\"\\n--- Lowest Selling Products ---\")\n",
    "            print(avg_sales_per_product.tail(5)) # Bottom 5 products by average sales\n",
    "        else:\n",
    "            print(\"Warning: 'Product' column not found for product-related analyses.\")\n",
    "    else:\n",
    "        print(\"Error: No suitable sales column found. Please check your dataset.\")"
   ]
  },
  {
   "cell_type": "code",
   "execution_count": 15,
   "id": "156404b1-dac8-468c-9de6-367193df633a",
   "metadata": {},
   "outputs": [
    {
     "name": "stdout",
     "output_type": "stream",
     "text": [
      "\n",
      "--- Numerical Field Statistics (using NumPy) ---\n"
     ]
    }
   ],
   "source": [
    "print(\"\\n--- Numerical Field Statistics (using NumPy) ---\")\n",
    "\n",
    "numerical_df = df.select_dtypes(include=np.number)\n",
    "\n",
    "for column in numerical_df.columns:\n",
    "    if column == 'Sales': \n",
    "        mean_val = np.mean(numerical_df[column])\n",
    "        median_val = np.median(numerical_df[column])\n",
    "        std_dev_val = np.std(numerical_df[column])\n",
    "\n",
    "        print(f\"\\n--- Statistics for '{column}' ---\")\n",
    "        print(f\"Mean: {mean_val:.2f}\")\n",
    "        print(f\"Median: {median_val:.2f}\")\n",
    "        print(f\"Standard Deviation: {std_dev_val:.2f}\")"
   ]
  },
  {
   "cell_type": "code",
   "execution_count": null,
   "id": "4a4fb5a9-276f-4e18-ac54-ee9793a06dd6",
   "metadata": {},
   "outputs": [],
   "source": []
  }
 ],
 "metadata": {
  "kernelspec": {
   "display_name": "Python [conda env:base]",
   "language": "python",
   "name": "conda-base-py"
  },
  "language_info": {
   "codemirror_mode": {
    "name": "ipython",
    "version": 3
   },
   "file_extension": ".py",
   "mimetype": "text/x-python",
   "name": "python",
   "nbconvert_exporter": "python",
   "pygments_lexer": "ipython3",
   "version": "3.12.4"
  }
 },
 "nbformat": 4,
 "nbformat_minor": 5
}
